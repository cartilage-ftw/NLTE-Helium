{
 "cells": [
  {
   "cell_type": "markdown",
   "metadata": {},
   "source": [
    "# Tests\n",
    "Not strictly unit tests, each cell tests a different limit of the simulation"
   ]
  },
  {
   "cell_type": "code",
   "execution_count": 1,
   "metadata": {},
   "outputs": [],
   "source": [
    "%load_ext autoreload\n",
    "%autoreload 2\n",
    "\n",
    "import NLTE.NLTE_model\n",
    "import matplotlib.pyplot as plt\n",
    "import numpy as np\n",
    "import astropy.units as u\n",
    "import astropy.constants as const"
   ]
  },
  {
   "cell_type": "markdown",
   "metadata": {},
   "source": [
    "# Test of Radiation solver"
   ]
  },
  {
   "cell_type": "code",
   "execution_count": 2,
   "metadata": {},
   "outputs": [
    {
     "name": "stdout",
     "output_type": "stream",
     "text": [
      "A rates ordered correctly: True\n",
      "Absorbtion rates ordered correctly: True\n",
      "Stimulated rates ordered correctly: True\n",
      "g factor correct: True\n",
      "Low temperature limit correct:  True\n",
      "High temperature limit correct:  True\n"
     ]
    }
   ],
   "source": [
    "\n",
    "nlte_solver = NLTE.NLTE_model.NLTESolver(NLTE.NLTE_model.Environment(T_phot=10000.0))\n",
    "A, stimulated_emission_rate, absorbtion_rate = nlte_solver.processes[1].get_einstein_rates()\n",
    "i23S = nlte_solver.states.all_names.index(\"23S\")\n",
    "i23P = nlte_solver.states.all_names.index(\"23P\")\n",
    "\n",
    "print(\"A rates ordered correctly:\", A[i23S, i23P] > 0 and A[i23P, i23S] == 0)\n",
    "print(\"Absorbtion rates ordered correctly:\", absorbtion_rate[i23S, i23P] == 0 and absorbtion_rate[i23P, i23S] > 0)\n",
    "print(\"Stimulated rates ordered correctly:\", stimulated_emission_rate[i23S, i23P] > 0 and stimulated_emission_rate[i23P, i23S] == 0)\n",
    "print(\"g factor correct:\", np.isclose(absorbtion_rate[i23P, i23S]/stimulated_emission_rate[i23S, i23P],3))\n",
    "\n",
    "pop_frac = lambda x: x[0]/sum(x)\n",
    "nlte_solver = NLTE.NLTE_model.NLTESolver(NLTE.NLTE_model.Environment(T_phot=1000.0))\n",
    "print(\"Low temperature limit correct: \", 0.99 < pop_frac(nlte_solver.solve(1e6)[1][[i23S, i23P],-1])) # All in lower state\n",
    "nlte_solver = NLTE.NLTE_model.NLTESolver(NLTE.NLTE_model.Environment(T_phot=10000.0)) # Approaching T->inf\n",
    "print(\"High temperature limit correct: \", 0.8 > pop_frac(nlte_solver.solve(1e6)[1][[i23S, i23P],-1]))"
   ]
  },
  {
   "cell_type": "code",
   "execution_count": 3,
   "metadata": {},
   "outputs": [
    {
     "name": "stdout",
     "output_type": "stream",
     "text": [
      "A rates ordered correctly: True\n",
      "Absorbtion rates ordered correctly: True\n",
      "Stimulated rates ordered correctly: True\n",
      "g factor correct: True\n",
      "Low temperature limit correct:  True\n",
      "High temperature limit correct:  True\n"
     ]
    }
   ],
   "source": [
    "states = NLTE.NLTE_model.States()\n",
    "nlte_solver = NLTE.NLTE_model.NLTESolver(NLTE.NLTE_model.Environment(T_phot=10000.0), states=states)\n",
    "A, stimulated_emission_rate, absorbtion_rate = nlte_solver.processes[1].get_einstein_rates()\n",
    "i23P = nlte_solver.states.all_names.index(\"23P\")\n",
    "i33S = nlte_solver.states.all_names.index(\"33S\")\n",
    "\n",
    "print(\"A rates ordered correctly:\", A[i23P, i33S] > 0 and A[i33S, i23P] == 0)\n",
    "print(\"Absorbtion rates ordered correctly:\", absorbtion_rate[i23P, i33S] == 0 and absorbtion_rate[i33S, i23P] > 0)\n",
    "print(\"Stimulated rates ordered correctly:\", stimulated_emission_rate[i23P, i33S] > 0 and stimulated_emission_rate[i33S, i23P] == 0)\n",
    "print(\"g factor correct:\", np.allclose(absorbtion_rate[i33S, i23P]/stimulated_emission_rate[i23P, i33S], 1/3))\n",
    "\n",
    "pop_frac = lambda x: x[0]/sum(x)\n",
    "nlte_solver = NLTE.NLTE_model.NLTESolver(NLTE.NLTE_model.Environment(T_phot=1000.0), states=states)\n",
    "print(\"Low temperature limit correct: \", 0.99 < pop_frac(nlte_solver.solve(1e6)[1][[i23S, i23P],-1])) # All in lower state\n",
    "nlte_solver = NLTE.NLTE_model.NLTESolver(NLTE.NLTE_model.Environment(T_phot=10000.0), states=states) # Approaching T->inf\n",
    "print(\"High temperature limit correct: \", 0.8 > pop_frac(nlte_solver.solve(1e6)[1][[i23S, i23P],-1]))"
   ]
  },
  {
   "cell_type": "markdown",
   "metadata": {},
   "source": [
    "# Diffuse LTE test\n",
    "Each radiative transition in diffuse LTE will have population fraction 1/2 of normal LTE"
   ]
  },
  {
   "cell_type": "code",
   "execution_count": 15,
   "metadata": {},
   "outputs": [
    {
     "name": "stdout",
     "output_type": "stream",
     "text": [
      "Diffuse LTE between ortho population correct: True\n"
     ]
    },
    {
     "data": {
      "image/png": "[encoded data removed]",
      "text/plain": [
       "<Figure size 640x480 with 1 Axes>"
      ]
     },
     "metadata": {},
     "output_type": "display_data"
    }
   ],
   "source": [
    "states = NLTE.NLTE_model.States()\n",
    "nlte_solver = NLTE.NLTE_model.NLTESolver(NLTE.NLTE_model.Environment(T_phot=4400.0), states=states)\n",
    "rad_process = nlte_solver.processes[1]\n",
    "nlte_solver.processes = nlte_solver.processes[:2] + nlte_solver.processes[3:]\n",
    "idx_of = lambda x: nlte_solver.states.all_names.index(x)\n",
    "min_rate = 0.01\n",
    "max_rate = 1e2\n",
    "max_width = 3\n",
    "for a,b in [(\"33S\", \"33P\"), (\"33P\", \"33D\"), (\"21P\", \"33D\"), (\"31D\", \"23P\")]:\n",
    "    idx_a = idx_of(a)\n",
    "    idx_b = idx_of(b)\n",
    "    rad_process.A[idx_a, idx_b] = 0\n",
    "    rad_process.A[idx_b, idx_a] = 0\n",
    "    rad_process.arbsorbtion_rate[idx_a, idx_b] = 0\n",
    "    rad_process.arbsorbtion_rate[idx_b, idx_a] = 0\n",
    "    rad_process.stimulated_emission_rate[idx_a, idx_b] = 0\n",
    "    rad_process.stimulated_emission_rate[idx_b, idx_a] = 0\n",
    "\n",
    "y = nlte_solver.solve(1e6)[1][:,-1]\n",
    "ortho_filter = np.array([name[-2] == \"3\" for name in states.all_names])\n",
    "plt.scatter(np.array(states.all_names)[ortho_filter], y[ortho_filter], marker=\".\", label = f\"NLTE\");\n",
    "\n",
    "environment = nlte_solver.environment\n",
    "bolzman = states.multiplicities * np.exp(-states.energies / (const.k_B * environment.T_phot * u.K))\n",
    "lte_pop = bolzman[ortho_filter[:-2]] /bolzman[1]  * y[1]\n",
    "expected_pop = lte_pop * [1, 1/2, 1/4, 1/2, 1/4]\n",
    "plt.scatter(np.array(states.all_names)[ortho_filter], lte_pop, marker=\"x\", label = f\"LTE\");\n",
    "plt.scatter(np.array(states.all_names)[ortho_filter], expected_pop, marker=\"o\", alpha=0.5, label = f\"Expected\");\n",
    "print(\"Diffuse LTE between ortho population correct:\", np.allclose(y[ortho_filter], expected_pop, rtol=0.05))\n",
    "plt.legend()\n",
    "plt.yscale(\"log\")"
   ]
  },
  {
   "cell_type": "markdown",
   "metadata": {},
   "source": [
    "# Test of collisional solver"
   ]
  },
  {
   "cell_type": "code",
   "execution_count": 6,
   "metadata": {},
   "outputs": [
    {
     "name": "stdout",
     "output_type": "stream",
     "text": [
      "High density limit correct:  True\n"
     ]
    }
   ],
   "source": [
    "states = NLTE.NLTE_model.States.read_states(filter = lambda table: table[\"n\"] <= 4)\n",
    "nlte_solver = NLTE.NLTE_model.NLTESolver(NLTE.NLTE_model.Environment(), states=states)\n",
    "nlte_solver.environment.n_e=1e33\n",
    "#nlte_solver.processes = nlte_solver.processes[:1]\n",
    "y = nlte_solver.solve(np.geomspace(1, 1e6))[1][:-2,-1]\n",
    "#print(\"High density limit correct: \", 0.5 > pop_frac(nlte_solver.solve(1e6)[1][[i23S, i23P],-1]))\n",
    "p_i = nlte_solver.states.multiplicities * np.exp(-nlte_solver.states.energies / (const.k_B * nlte_solver.environment.T_electrons*u.K))\n",
    "pop = p_i / sum(p_i) * sum(y)\n",
    "pop_frac = lambda x: x/sum(x)\n",
    "print(\"High density limit correct: \", np.allclose(pop_frac(y), pop_frac(pop), rtol=1e-2, atol=0))"
   ]
  }
 ],
 "metadata": {
  "kernelspec": {
   "display_name": "Python 3",
   "language": "python",
   "name": "python3"
  },
  "language_info": {
   "codemirror_mode": {
    "name": "ipython",
    "version": 3
   },
   "file_extension": ".py",
   "mimetype": "text/x-python",
   "name": "python",
   "nbconvert_exporter": "python",
   "pygments_lexer": "ipython3",
   "version": "3.10.12"
  }
 },
 "nbformat": 4,
 "nbformat_minor": 2
}
