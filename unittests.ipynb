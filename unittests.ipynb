{
 "cells": [
  {
   "cell_type": "code",
   "execution_count": 95,
   "metadata": {},
   "outputs": [],
   "source": [
    "import NLTE.NLTE_model\n",
    "import matplotlib.pyplot as plt\n",
    "import numpy as np\n",
    "import astropy.units as u\n",
    "import astropy.constants as const"
   ]
  },
  {
   "cell_type": "markdown",
   "metadata": {},
   "source": [
    "# Test of Radiation solver"
   ]
  },
  {
   "cell_type": "code",
   "execution_count": 64,
   "metadata": {},
   "outputs": [
    {
     "name": "stdout",
     "output_type": "stream",
     "text": [
      "A rates ordered correctly: True\n",
      "Absorbtion rates ordered correctly: True\n",
      "Stimulated rates ordered correctly: True\n",
      "g factor correct: True\n",
      "Low temperature limit correct:  True\n",
      "High temperature limit correct:  True\n"
     ]
    }
   ],
   "source": [
    "\n",
    "nlte_solver = NLTE.NLTE_model.NLTESolver(NLTE.NLTE_model.Environment(T_phot=10000.0))\n",
    "A, absorbtion_rate, stimulated_emission_rate = nlte_solver.processes[1].get_einstein_rates()\n",
    "i23S = nlte_solver.states.all_names.index(\"23S\")\n",
    "i23P = nlte_solver.states.all_names.index(\"23P\")\n",
    "\n",
    "print(\"A rates ordered correctly:\", A[i23S, i23P] > 0 and A[i23P, i23S] == 0)\n",
    "print(\"Absorbtion rates ordered correctly:\", absorbtion_rate[i23S, i23P] == 0 and absorbtion_rate[i23P, i23S] > 0)\n",
    "print(\"Stimulated rates ordered correctly:\", stimulated_emission_rate[i23S, i23P] > 0 and stimulated_emission_rate[i23P, i23S] == 0)\n",
    "print(\"g factor correct:\", absorbtion_rate[i23P, i23S]/stimulated_emission_rate[i23S, i23P] == 3)\n",
    "\n",
    "pop_frac = lambda x: x[0]/sum(x)\n",
    "nlte_solver = NLTE.NLTE_model.NLTESolver(NLTE.NLTE_model.Environment(T_phot=1000.0))\n",
    "print(\"Low temperature limit correct: \", 0.99 < pop_frac(nlte_solver.solve(1e6)[1][[i23S, i23P],-1])) # All in lower state\n",
    "nlte_solver = NLTE.NLTE_model.NLTESolver(NLTE.NLTE_model.Environment(T_phot=10000.0)) # Approaching T->inf\n",
    "print(\"High temperature limit correct: \", 0.5 > pop_frac(nlte_solver.solve(1e6)[1][[i23S, i23P],-1]))"
   ]
  },
  {
   "cell_type": "markdown",
   "metadata": {},
   "source": [
    "# Test of collisional solver"
   ]
  },
  {
   "cell_type": "code",
   "execution_count": 120,
   "metadata": {},
   "outputs": [
    {
     "name": "stdout",
     "output_type": "stream",
     "text": [
      "High density limit correct:  True\n"
     ]
    }
   ],
   "source": [
    "nlte_solver = NLTE.NLTE_model.NLTESolver(NLTE.NLTE_model.Environment())\n",
    "nlte_solver.environment.n_e=1e30\n",
    "y = nlte_solver.solve(1e6)[1][:-2,-1]\n",
    "#print(\"High density limit correct: \", 0.5 > pop_frac(nlte_solver.solve(1e6)[1][[i23S, i23P],-1]))\n",
    "p_i = nlte_solver.states.multiplicities * np.exp(-nlte_solver.states.energies / (const.k_B * nlte_solver.environment.T_electrons*u.K))\n",
    "pop = p_i / sum(p_i) * sum(y)\n",
    "print(\"High density limit correct: \", np.allclose(pop_frac(y), pop_frac(pop)))"
   ]
  },
  {
   "cell_type": "markdown",
   "metadata": {},
   "source": []
  }
 ],
 "metadata": {
  "kernelspec": {
   "display_name": "Python 3",
   "language": "python",
   "name": "python3"
  },
  "language_info": {
   "codemirror_mode": {
    "name": "ipython",
    "version": 3
   },
   "file_extension": ".py",
   "mimetype": "text/x-python",
   "name": "python",
   "nbconvert_exporter": "python",
   "pygments_lexer": "ipython3",
   "version": "3.10.12"
  }
 },
 "nbformat": 4,
 "nbformat_minor": 2
}
