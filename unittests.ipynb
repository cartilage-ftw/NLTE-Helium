{
 "cells": [
  {
   "cell_type": "code",
   "execution_count": 1,
   "metadata": {},
   "outputs": [],
   "source": [
    "%load_ext autoreload\n",
    "%autoreload 2\n",
    "\n",
    "import NLTE.NLTE_model\n",
    "import matplotlib.pyplot as plt\n",
    "import numpy as np\n",
    "import astropy.units as u\n",
    "import astropy.constants as const"
   ]
  },
  {
   "cell_type": "markdown",
   "metadata": {},
   "source": [
    "# Test of Radiation solver"
   ]
  },
  {
   "cell_type": "code",
   "execution_count": 20,
   "metadata": {},
   "outputs": [
    {
     "name": "stdout",
     "output_type": "stream",
     "text": [
      "A rates ordered correctly: True\n",
      "Absorbtion rates ordered correctly: True\n",
      "Stimulated rates ordered correctly: True\n",
      "g factor correct: True\n",
      "Low temperature limit correct:  True\n",
      "High temperature limit correct:  True\n"
     ]
    }
   ],
   "source": [
    "\n",
    "nlte_solver = NLTE.NLTE_model.NLTESolver(NLTE.NLTE_model.Environment(T_phot=10000.0))\n",
    "A, absorbtion_rate, stimulated_emission_rate = nlte_solver.processes[1].get_einstein_rates()\n",
    "i23S = nlte_solver.states.all_names.index(\"23S\")\n",
    "i23P = nlte_solver.states.all_names.index(\"23P\")\n",
    "\n",
    "print(\"A rates ordered correctly:\", A[i23S, i23P] > 0 and A[i23P, i23S] == 0)\n",
    "print(\"Absorbtion rates ordered correctly:\", absorbtion_rate[i23S, i23P] == 0 and absorbtion_rate[i23P, i23S] > 0)\n",
    "print(\"Stimulated rates ordered correctly:\", stimulated_emission_rate[i23S, i23P] > 0 and stimulated_emission_rate[i23P, i23S] == 0)\n",
    "print(\"g factor correct:\", absorbtion_rate[i23P, i23S]/stimulated_emission_rate[i23S, i23P] == 3)\n",
    "\n",
    "pop_frac = lambda x: x[0]/sum(x)\n",
    "nlte_solver = NLTE.NLTE_model.NLTESolver(NLTE.NLTE_model.Environment(T_phot=1000.0))\n",
    "print(\"Low temperature limit correct: \", 0.99 < pop_frac(nlte_solver.solve(1e6)[1][[i23S, i23P],-1])) # All in lower state\n",
    "nlte_solver = NLTE.NLTE_model.NLTESolver(NLTE.NLTE_model.Environment(T_phot=10000.0)) # Approaching T->inf\n",
    "print(\"High temperature limit correct: \", 0.5 > pop_frac(nlte_solver.solve(1e6)[1][[i23S, i23P],-1]))"
   ]
  },
  {
   "cell_type": "code",
   "execution_count": 21,
   "metadata": {},
   "outputs": [
    {
     "name": "stdout",
     "output_type": "stream",
     "text": [
      "A rates ordered correctly: True\n",
      "Absorbtion rates ordered correctly: True\n",
      "Stimulated rates ordered correctly: True\n",
      "g factor correct: True\n",
      "Low temperature limit correct:  True\n",
      "High temperature limit correct:  True\n"
     ]
    }
   ],
   "source": [
    "states = NLTE.NLTE_model.States()\n",
    "nlte_solver = NLTE.NLTE_model.NLTESolver(NLTE.NLTE_model.Environment(T_phot=10000.0), states=states)\n",
    "A, absorbtion_rate, stimulated_emission_rate = nlte_solver.processes[1].get_einstein_rates()\n",
    "i23P = nlte_solver.states.all_names.index(\"23P\")\n",
    "i33S = nlte_solver.states.all_names.index(\"33S\")\n",
    "\n",
    "print(\"A rates ordered correctly:\", A[i23P, i33S] > 0 and A[i33S, i23P] == 0)\n",
    "print(\"Absorbtion rates ordered correctly:\", absorbtion_rate[i23P, i33S] == 0 and absorbtion_rate[i33S, i23P] > 0)\n",
    "print(\"Stimulated rates ordered correctly:\", stimulated_emission_rate[i23P, i33S] > 0 and stimulated_emission_rate[i33S, i23P] == 0)\n",
    "print(\"g factor correct:\", np.allclose(absorbtion_rate[i33S, i23P]/stimulated_emission_rate[i23P, i33S], 1/3))\n",
    "\n",
    "pop_frac = lambda x: x[0]/sum(x)\n",
    "nlte_solver = NLTE.NLTE_model.NLTESolver(NLTE.NLTE_model.Environment(T_phot=1000.0), states=states)\n",
    "print(\"Low temperature limit correct: \", 0.99 < pop_frac(nlte_solver.solve(1e6)[1][[i23S, i23P],-1])) # All in lower state\n",
    "nlte_solver = NLTE.NLTE_model.NLTESolver(NLTE.NLTE_model.Environment(T_phot=10000.0), states=states) # Approaching T->inf\n",
    "print(\"High temperature limit correct: \", 0.5 > pop_frac(nlte_solver.solve(1e6)[1][[i23S, i23P],-1]))"
   ]
  },
  {
   "cell_type": "code",
   "execution_count": 51,
   "metadata": {},
   "outputs": [
    {
     "name": "stdout",
     "output_type": "stream",
     "text": [
      "[[1.00000000e+00 4.79236147e+15 4.98487217e+15]\n",
      " [1.00000000e+00 1.00000000e+00 1.92510704e+14]\n",
      " [1.00000000e+00 1.00000000e+00 1.00000000e+00]] Hz\n",
      "[19.81961452 20.96408689 22.71846642 23.00707315 23.07365071] eV\n"
     ]
    },
    {
     "data": {
      "image/png": "[encoded data removed]",
      "text/plain": [
       "<Figure size 640x480 with 1 Axes>"
      ]
     },
     "metadata": {},
     "output_type": "display_data"
    }
   ],
   "source": [
    "import networkx as nx\n",
    "\n",
    "\n",
    "states = NLTE.NLTE_model.States()\n",
    "nlte_solver = NLTE.NLTE_model.NLTESolver(NLTE.NLTE_model.Environment(T_phot=4400.0), states=states)\n",
    "rad_process = nlte_solver.processes[1]\n",
    "nlte_solver.processes = [rad_process]\n",
    "idx_of = lambda x: nlte_solver.states.all_names.index(x)\n",
    "min_rate = 0.01\n",
    "max_rate = 1e2\n",
    "max_width = 3\n",
    "for a,b in [(\"33S\", \"33P\"), (\"33P\", \"33D\")]:\n",
    "    idx_a = idx_of(a)\n",
    "    idx_b = idx_of(b)\n",
    "    rad_process.A[idx_a, idx_b] = 0\n",
    "    rad_process.A[idx_b, idx_a] = 0\n",
    "    rad_process.arbsorbtion_rate[idx_a, idx_b] = 0\n",
    "    rad_process.arbsorbtion_rate[idx_b, idx_a] = 0\n",
    "    rad_process.stimulated_emission_rate[idx_a, idx_b] = 0\n",
    "    rad_process.stimulated_emission_rate[idx_b, idx_a] = 0\n",
    "\n",
    "y = nlte_solver.solve(1e6)[1][:,-1]\n",
    "ortho_filter = np.array([name[-2] == \"3\" for name in states.all_names])\n",
    "plt.scatter(np.array(states.all_names)[ortho_filter], y[ortho_filter], marker=\".\", label = f\"NLTE\");\n",
    "\n",
    "environment = nlte_solver.environment\n",
    "bolzman = states.multiplicities * np.exp(-states.energies / (const.k_B * environment.T_phot * u.K))\n",
    "lte_pop = bolzman[ortho_filter[:-2]] /bolzman[1]  * y[1]\n",
    "plt.scatter(np.array(states.all_names)[ortho_filter], lte_pop, marker=\"x\", label = f\"LTE\");\n",
    "plt.scatter(np.array(states.all_names)[ortho_filter], lte_pop * [1, 1/2, 1/4, 1/2, 1/4], marker=\"o\", alpha=0.5, label = f\"Expected\");\n",
    "print(states.energies[ortho_filter[:-2]])\n",
    "plt.legend()\n",
    "plt.yscale(\"log\")"
   ]
  },
  {
   "cell_type": "markdown",
   "metadata": {},
   "source": [
    "# Test of collisional solver"
   ]
  },
  {
   "cell_type": "code",
   "execution_count": 13,
   "metadata": {},
   "outputs": [
    {
     "name": "stdout",
     "output_type": "stream",
     "text": [
      "   Configuration Term  J  g  Level (eV)  Uncertainty (eV)          Reference  \\\n",
      "0            1s2   1S  0  1    0.000000      1.500000e-07             L22715   \n",
      "1          1s.2s   3S  1  3   19.819615      5.000000e-09  L22715c200,L20736   \n",
      "2          1s.2s   1S  0  1   20.615775      8.000000e-09  L22715c200,L20736   \n",
      "3          1s.2p  3P*  2  5   20.964087      3.000000e-09  L22715c200,L20736   \n",
      "4          1s.2p  3P*  1  3   20.964096      3.000000e-09  L22715c200,L20736   \n",
      "5          1s.2p  3P*  0  1   20.964219      3.000000e-09  L22715c200,L20736   \n",
      "6          1s.2p  1P*  1  3   21.218023      1.600000e-09  L22715c200,L20736   \n",
      "7          1s.3s   3S  1  3   22.718466      8.000000e-09         L22715c200   \n",
      "8          1s.3s   1S  0  1   22.920317      4.000000e-09         L22715c200   \n",
      "9          1s.3p  3P*  2  5   23.007073      4.000000e-11         L22715c200   \n",
      "10         1s.3p  3P*  1  3   23.007076      4.000000e-10         L22715c200   \n",
      "11         1s.3p  3P*  0  1   23.007109      4.000000e-10         L22715c200   \n",
      "12         1s.3d   3D  3  7   23.073651      1.000000e-10  L22715c200,L21466   \n",
      "13         1s.3d   3D  2  5   23.073651      1.000000e-10  L22715c200,L21466   \n",
      "14         1s.3d   3D  1  3   23.073656      1.000000e-10  L22715c200,L21466   \n",
      "15         1s.3d   1D  2  5   23.074075      8.000000e-11  L22715c200,L21466   \n",
      "16         1s.3p  1P*  1  3   23.087019      2.100000e-10         L22715c200   \n",
      "17         1s.4s   3S  1  3   23.593959      3.000000e-09         L22715c200   \n",
      "18         1s.4s   1S  0  1   23.673571      3.000000e-09         L22715c200   \n",
      "19         1s.4p  3P*  2  5   23.707891      8.000000e-10         L22715c200   \n",
      "20         1s.4p  3P*  1  3   23.707892      8.000000e-10         L22715c200   \n",
      "21         1s.4p  3P*  0  1   23.707906      8.000000e-10         L22715c200   \n",
      "22         1s.4d   3D  3  7   23.736090      5.000000e-11  L22715c200,L21466   \n",
      "23         1s.4d   3D  2  5   23.736090      5.000000e-11  L22715c200,L21466   \n",
      "24         1s.4d   3D  1  3   23.736093      5.000000e-11  L22715c200,L21466   \n",
      "25         1s.4d   1D  2  5   23.736335      4.000000e-11  L22715c200,L21466   \n",
      "26         1s.4f  3F*  3  7   23.737007      8.000000e-12         L22715c200   \n",
      "27         1s.4f  3F*  4  9   23.737008      6.000000e-12         L22715c200   \n",
      "28         1s.4f  3F*  2  5   23.737009      8.000000e-12         L22715c200   \n",
      "29         1s.4f  1F*  3  7   23.737010      6.000000e-12         L22715c200   \n",
      "30         1s.4p  1P*  1  3   23.742070      1.600000e-10         L22715c200   \n",
      "\n",
      "    n name  \n",
      "0   1  11S  \n",
      "1   2  23S  \n",
      "2   2  21S  \n",
      "3   2  23P  \n",
      "4   2  23P  \n",
      "5   2  23P  \n",
      "6   2  21P  \n",
      "7   3  33S  \n",
      "8   3  31S  \n",
      "9   3  33P  \n",
      "10  3  33P  \n",
      "11  3  33P  \n",
      "12  3  33D  \n",
      "13  3  33D  \n",
      "14  3  33D  \n",
      "15  3  31D  \n",
      "16  3  31P  \n",
      "17  4  43S  \n",
      "18  4  41S  \n",
      "19  4  43P  \n",
      "20  4  43P  \n",
      "21  4  43P  \n",
      "22  4  43D  \n",
      "23  4  43D  \n",
      "24  4  43D  \n",
      "25  4  41D  \n",
      "26  4  43F  \n",
      "27  4  43F  \n",
      "28  4  43F  \n",
      "29  4  41F  \n",
      "30  4  41P  \n",
      "Warning: missing states in collision table:  ['41D' '41F' '41P' '41S' '43D' '43F' '43P' '43S']\n",
      "Inserting ones for missing states\n",
      "High density limit correct:  True\n"
     ]
    }
   ],
   "source": [
    "states = NLTE.NLTE_model.States.read_states()\n",
    "nlte_solver = NLTE.NLTE_model.NLTESolver(NLTE.NLTE_model.Environment(), states=states)\n",
    "nlte_solver.environment.n_e=1e30\n",
    "y = nlte_solver.solve(1e6)[1][:-2,-1]\n",
    "#print(\"High density limit correct: \", 0.5 > pop_frac(nlte_solver.solve(1e6)[1][[i23S, i23P],-1]))\n",
    "p_i = nlte_solver.states.multiplicities * np.exp(-nlte_solver.states.energies / (const.k_B * nlte_solver.environment.T_electrons*u.K))\n",
    "pop = p_i / sum(p_i) * sum(y)\n",
    "print(\"High density limit correct: \", np.allclose(pop_frac(y), pop_frac(pop)))"
   ]
  }
 ],
 "metadata": {
  "kernelspec": {
   "display_name": "Python 3",
   "language": "python",
   "name": "python3"
  },
  "language_info": {
   "codemirror_mode": {
    "name": "ipython",
    "version": 3
   },
   "file_extension": ".py",
   "mimetype": "text/x-python",
   "name": "python",
   "nbconvert_exporter": "python",
   "pygments_lexer": "ipython3",
   "version": "3.10.12"
  }
 },
 "nbformat": 4,
 "nbformat_minor": 2
}
