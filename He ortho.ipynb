{
 "cells": [
  {
   "cell_type": "markdown",
   "metadata": {},
   "source": [
    "# Orthohelium population"
   ]
  },
  {
   "cell_type": "markdown",
   "metadata": {},
   "source": [
    "Writing a differential equation for the change in ortho-state:\n",
    "\n",
    "$$\\frac{d n^{o}}{dt} = \\frac{3}{4} \\alpha n_e n_{He II} \n",
    "- \\Sigma n_i^o \\int_{E_i} F_{\\nu} B_{i,\\inf} \\ d\\nu \n",
    "- \\Sigma n_i^o A_i^{p}\n",
    "- \\Sigma n_i^o k n_e\n",
    "$$\n",
    "\n",
    "\n",
    "Here, the first term is recombination, second term is photo-ionization, third term is the E1 decay to ground state (ie. slow for the ground state) and fourth term is electron collision. \n",
    "\n",
    "We will assume the energy-levels of the triplet is Boltzman-distributed: \n",
    "\n",
    "$n_i^o= n_0^o e^{-(E_i-E_0^o)/kT}$"
   ]
  },
  {
   "cell_type": "code",
   "execution_count": 237,
   "metadata": {},
   "outputs": [
    {
     "ename": "TypeError",
     "evalue": "Environment.calculate_number_densities() missing 5 required positional arguments: 't_d', 'M_ejecta', 'Y_He', 'v_line', and 't'",
     "output_type": "error",
     "traceback": [
      "\u001b[0;31m---------------------------------------------------------------------------\u001b[0m",
      "\u001b[0;31mTypeError\u001b[0m                                 Traceback (most recent call last)",
      "Cell \u001b[0;32mIn[237], line 148\u001b[0m\n\u001b[1;32m    145\u001b[0m         env \u001b[38;5;241m=\u001b[39m Environment(\u001b[38;5;241m*\u001b[39m\u001b[38;5;241m*\u001b[39m{\u001b[38;5;28mproperty\u001b[39m:value})\n\u001b[1;32m    146\u001b[0m         results\u001b[38;5;241m.\u001b[39mappend(steady_state_n_ortho(env))\n\u001b[0;32m--> 148\u001b[0m \u001b[43mgrid_search\u001b[49m\u001b[43m(\u001b[49m\u001b[38;5;124;43m\"\u001b[39;49m\u001b[38;5;124;43mUV_shielding\u001b[39;49m\u001b[38;5;124;43m\"\u001b[39;49m\u001b[43m,\u001b[49m\u001b[43m \u001b[49m\u001b[43mnp\u001b[49m\u001b[38;5;241;43m.\u001b[39;49m\u001b[43mgeomspace\u001b[49m\u001b[43m(\u001b[49m\u001b[38;5;241;43m0.01\u001b[39;49m\u001b[43m,\u001b[49m\u001b[38;5;241;43m100\u001b[39;49m\u001b[43m)\u001b[49m\u001b[43m)\u001b[49m\n",
      "Cell \u001b[0;32mIn[237], line 145\u001b[0m, in \u001b[0;36mgrid_search\u001b[0;34m(property, values)\u001b[0m\n\u001b[1;32m    143\u001b[0m results \u001b[38;5;241m=\u001b[39m []\n\u001b[1;32m    144\u001b[0m \u001b[38;5;28;01mfor\u001b[39;00m value \u001b[38;5;129;01min\u001b[39;00m values:\n\u001b[0;32m--> 145\u001b[0m     env \u001b[38;5;241m=\u001b[39m \u001b[43mEnvironment\u001b[49m\u001b[43m(\u001b[49m\u001b[38;5;241;43m*\u001b[39;49m\u001b[38;5;241;43m*\u001b[39;49m\u001b[43m{\u001b[49m\u001b[38;5;28;43mproperty\u001b[39;49m\u001b[43m:\u001b[49m\u001b[43mvalue\u001b[49m\u001b[43m}\u001b[49m\u001b[43m)\u001b[49m\n\u001b[1;32m    146\u001b[0m     results\u001b[38;5;241m.\u001b[39mappend(steady_state_n_ortho(env))\n",
      "File \u001b[0;32m<string>:16\u001b[0m, in \u001b[0;36m__init__\u001b[0;34m(self, t_d, T, UV_shielding, multiplicities, energies, A_rates, names, bolzmann_factors, ionization_rates, collision_k, alpha, n_e, n_HeII)\u001b[0m\n",
      "Cell \u001b[0;32mIn[237], line 71\u001b[0m, in \u001b[0;36mEnvironment.__post_init__\u001b[0;34m(self)\u001b[0m\n\u001b[1;32m     69\u001b[0m \u001b[38;5;28mself\u001b[39m\u001b[38;5;241m.\u001b[39mcollision_k \u001b[38;5;241m=\u001b[39m \u001b[38;5;28mself\u001b[39m\u001b[38;5;241m.\u001b[39mcalculate_collision_k(\u001b[38;5;28mself\u001b[39m\u001b[38;5;241m.\u001b[39mT, \u001b[38;5;28mself\u001b[39m\u001b[38;5;241m.\u001b[39mmultiplicities)\n\u001b[1;32m     70\u001b[0m \u001b[38;5;28mself\u001b[39m\u001b[38;5;241m.\u001b[39malpha \u001b[38;5;241m=\u001b[39m \u001b[38;5;28mself\u001b[39m\u001b[38;5;241m.\u001b[39mcalculate_alpha(\u001b[38;5;28mself\u001b[39m\u001b[38;5;241m.\u001b[39mT)\n\u001b[0;32m---> 71\u001b[0m \u001b[38;5;28mself\u001b[39m\u001b[38;5;241m.\u001b[39mn_e, \u001b[38;5;28mself\u001b[39m\u001b[38;5;241m.\u001b[39mn_HeII \u001b[38;5;241m=\u001b[39m \u001b[38;5;28;43mself\u001b[39;49m\u001b[38;5;241;43m.\u001b[39;49m\u001b[43mcalculate_number_densities\u001b[49m\u001b[43m(\u001b[49m\u001b[43m)\u001b[49m\n",
      "\u001b[0;31mTypeError\u001b[0m: Environment.calculate_number_densities() missing 5 required positional arguments: 't_d', 'M_ejecta', 'Y_He', 'v_line', and 't'"
     ]
    }
   ],
   "source": [
    "import numpy as np\n",
    "import matplotlib.pyplot as plt\n",
    "from scipy.interpolate import interp1d\n",
    "from scipy.integrate import quad\n",
    "from scipy.optimize import minimize\n",
    "from dataclasses import dataclass\n",
    "from dataclasses import dataclass, field\n",
    "import astropy.units as u\n",
    "import astropy.constants as const\n",
    "from astropy.modeling.physical_models import BlackBody\n",
    "\n",
    "# small helper function to make a numpy array field with a default value\n",
    "make_np_field = lambda list, multiplier=1: field(default_factory=lambda: np.array(list)*multiplier)\n",
    "\n",
    "# constants, in cgs units\n",
    "erg_per_eV = u.eV.to(u.erg) # erg/eV\n",
    "k_B = const.k_B.cgs.value  # erg/K# calculate density profile at t=1 day\n",
    "\n",
    "rho = lambda v,t, rho0, p=5, v_0=0.2, t_0=1 : rho0 * (v/v_0)**-p * (t/t_0)**-3\n",
    "# M = int dM/dV*dV/dr*dr/dv wrt dv\n",
    "# r = 1 day * v\n",
    "# M = int rho(v)*dV/dr*dr/dv wrt dv\n",
    "# output in g/c\n",
    "def dMdv(v, t):\n",
    "    v = v*const.c\n",
    "    t = t*u.day\n",
    "    dr_dv = 1*u.day\n",
    "    r = 1*u.day * v\n",
    "    dV_dr = 4*np.pi*r**2\n",
    "    dM_dV = rho(v, t, 1*u.g/u.cm**3, v_0=0.2*const.c, t_0=1*u.day)\n",
    "    return (dM_dV.cgs * dV_dr.cgs * dr_dv.cgs * const.c).cgs.value\n",
    "def get_density_profile(M_ej = 0.04 * u.M_sun, atomic_mass=4*u.u, mass_fraction=0.002):\n",
    "    # we calculate the density profile at t=1 day, and normalize it to 0.04 solar mass\n",
    "    rho_0 =  M_ej / (quad(dMdv, 0.1, 0.5, args=1)[0] * u.g/u.cm**3)\n",
    "    number_density_0 = (rho_0 * mass_fraction / atomic_mass).cgs.value\n",
    "    print(rho_0, mass_fraction, atomic_mass)\n",
    "    return lambda v, t: rho(v, t, number_density_0)\n",
    "\n",
    "# Environment class, contains all the parameters of the environment\n",
    "# and calculates the derived parameters constant for all ortho populations.\n",
    "# can be initialized with the default values as Environment(), or with custom values\n",
    "# as Environment(t_d=1.43, T=4000, UV_shielding=0.9). \n",
    "@dataclass\n",
    "class Environment:\n",
    "    # input values\n",
    "    t_d: float = 1.43 # days. Yes Days. The second cgs unit of time, apparently.\n",
    "    T: float = 4000  # K\n",
    "    UV_shielding:float = 0.9 # fraction shielded\n",
    "    M_ejecta: float = 0.04 # solar masses\n",
    "    mass_fraction: float = 0.002 # mass fraction of helium\n",
    "    \n",
    "    # Level properties. Can be lengthened to include more levels\n",
    "    # Must all be ordered the same way\n",
    "    multiplicities: np.ndarray = make_np_field([1,3]) # 1 for singlet, 3 for triplet\n",
    "    energies: np.ndarray = make_np_field([19.82, 20.96], erg_per_eV)  # eV\n",
    "    A_rates: np.ndarray = make_np_field([1.272e-04, 1.764e+02])  #s^-1\n",
    "    names: list = field(default_factory=lambda: [\"1s2s_ortho\", \"1s2p_ortho\"]) # names of levels in cross-section files\n",
    "    \n",
    "    # dervied values, calculated in __post_init__ based on the above values\n",
    "    bolzmann_factors : np.ndarray = None # From T and energies\n",
    "    ionization_rates : np.ndarray = None # From T and energies\n",
    "    collision_k : np.ndarray = None\n",
    "    alpha: float = None #cm^3/s, calculate based on temp\n",
    "    n_e: float = None # count/cm^3\t\n",
    "    n_HeII: float = None # count/cm^3\n",
    "\n",
    "    # Calculate derived values based on the input values\n",
    "    def __post_init__(self):\n",
    "        self.bolzmann_factors = self.calculate_bolzmann_factors(self.energies, self.T)\n",
    "        self.ionization_rates = self.calculate_ionization_integrals(self.T, self.names, self.UV_shielding)\n",
    "        self.collision_k = self.calculate_collision_k(self.T, self.multiplicities)\n",
    "        self.alpha = self.calculate_alpha(self.T)\n",
    "        self.n_e, self.n_HeII = self.calculate_number_densities(self.t_d, 0.04 * , 0.002, 0.2, self.t_d)\n",
    "\n",
    "    # Calculate the bolzmann factors for a given temperature\n",
    "    @staticmethod\n",
    "    def calculate_bolzmann_factors(E, T):\n",
    "        return np.exp(-(E-E[0])/(k_B*T))\n",
    "\n",
    "    # integrate product between shielded BB and crossection\n",
    "    @staticmethod\n",
    "    def calculate_ionization_integrals(T, names, UV_shielding):\n",
    "        # make cthe blackbody spectrum, scaled by the UV shielding and per-wavelength\n",
    "        bb = BlackBody(T * u.K, scale=UV_shielding*u.Unit(\"erg/(nm s sr cm2)\")) \n",
    "        ionization_rates = []\n",
    "        for name in names:\n",
    "            E, sigma = np.fliplr(np.loadtxt(name + \"_ionization.csv\", unpack=True))\n",
    "            E = (E * u.Ry).cgs\n",
    "            wl = E.to(u.nm, equivalencies=u.spectral())\n",
    "            sigma = (sigma * u.Mbarn).cgs\n",
    "            ionization_flux_article = np.pi**2*4*u.sr * sigma * (bb(wl)/E * UV_shielding)\n",
    "            ionization_rates.append(np.trapz(x=wl, y=ionization_flux_article).to(1/u.s).value)\n",
    "        return np.array(ionization_rates)\n",
    "\n",
    "    # Calculate collisional de-excitation rate\n",
    "    @staticmethod\n",
    "    def calculate_collision_k(T, multiplicities):\n",
    "        return 8.63*10**-6/(np.sqrt(T) * multiplicities)\n",
    "\n",
    "    # Calculate recombination efficiency\n",
    "    @staticmethod\n",
    "    def calculate_alpha(T):   \n",
    "        \"\"\" \n",
    "        A_rates: \n",
    "        From 3P to singlet ground, A = 1.764e+02 (ie. time-scale of 0.005 s)\n",
    "        From 3S to singlet ground, A = 1.272e-04 (ie. time-scale of hours)\n",
    "        Thus, the dominant path-way down should be from the triplet first exited state. \n",
    "        \"\"\"\n",
    "        T_list = [3.0, 3.1, 3.2, 3.3, 3.4, 3.5, 3.6, 3.7, 3.8, 3.9, 4.0]\n",
    "        alpha_list = [1.99e-12, 1.71e-12, 1.47e-12, 1.27e-12, 1.09e-12, 9.32e-13, \n",
    "        7.98e-13, 6.84e-13, 5.85e-13, 5.00e-13, 4.28e-13]\n",
    "\n",
    "        return interp1d(T_list, alpha_list)( np.log10(T) )    \n",
    "\n",
    "    # Calculate number densities of n_e and n_HeII respectively\n",
    "    # assuming level population of ortho-HeI is negligible\n",
    "    @staticmethod\n",
    "    def calculate_number_densities(t_d, M_ejecta, Y_He, v_line, t):\n",
    "        n_He_profile = get_density_profile(M_ejecta, atomic_mass=4*u.u, mass_fraction=0.002)\n",
    "        n_HeII = n_He_profile(v_line, t_d)\n",
    "        return 1.5e8 * t_d**-3, \n",
    "\n",
    "\n",
    "\n",
    "def recombination_rate(level_pop, env):\n",
    "    return 3/4 * env.alpha * env.n_e * env.n_HeII\n",
    "\n",
    "def ionization_rate(level_pop, env):\n",
    "    return np.sum(level_pop * env.ionization_integrals)\n",
    "\n",
    "def natural_decay_rate(level_pop, env):\n",
    "    return sum(level_pop * env.A_rates)\n",
    "\n",
    "def collision_rate(level_pop, env):\n",
    "    return sum(level_pop * env.collision_k * env.n_e)\n",
    "\n",
    "def dn_ortho_dt(n0_ortho, env): \n",
    "    level_pop = n0_ortho * env.multiplicities\n",
    "    return recombination_rate(level_pop, env) - ionization_rate(level_pop, env) - natural_decay_rate(level_pop, env) - collision_rate(level_pop, env)\n",
    "\n",
    "def steady_state_n_ortho(env):\n",
    "    return minimize(dn_ortho_dt, env.n_HeII, args=(env))\n",
    "\n",
    "def grid_search(property, values):\n",
    "    results = []\n",
    "    for value in values:\n",
    "        env = Environment(**{property:value})\n",
    "        results.append(steady_state_n_ortho(env))\n",
    "\n",
    "grid_search(\"UV_shielding\", np.geomspace(0.01,100))"
   ]
  },
  {
   "cell_type": "markdown",
   "metadata": {},
   "source": [
    "# Ionization flux diagnostics"
   ]
  },
  {
   "cell_type": "code",
   "execution_count": 182,
   "metadata": {},
   "outputs": [
    {
     "ename": "TypeError",
     "evalue": "Environment.calculate_number_densities() missing 3 required positional arguments: 't_d', 'M_ejecta', and 'Y_He'",
     "output_type": "error",
     "traceback": [
      "\u001b[0;31m---------------------------------------------------------------------------\u001b[0m",
      "\u001b[0;31mTypeError\u001b[0m                                 Traceback (most recent call last)",
      "Cell \u001b[0;32mIn[182], line 13\u001b[0m\n\u001b[1;32m     10\u001b[0m fig, ax1 \u001b[38;5;241m=\u001b[39m plt\u001b[38;5;241m.\u001b[39msubplots()\n\u001b[1;32m     11\u001b[0m ax2 \u001b[38;5;241m=\u001b[39m ax1\u001b[38;5;241m.\u001b[39mtwinx()\n\u001b[0;32m---> 13\u001b[0m env \u001b[38;5;241m=\u001b[39m \u001b[43mEnvironment\u001b[49m\u001b[43m(\u001b[49m\u001b[43mt_d\u001b[49m\u001b[38;5;241;43m=\u001b[39;49m\u001b[43mday\u001b[49m\u001b[43m,\u001b[49m\u001b[43m \u001b[49m\u001b[43mT\u001b[49m\u001b[38;5;241;43m=\u001b[39;49m\u001b[43mT\u001b[49m\u001b[43m)\u001b[49m\n\u001b[1;32m     14\u001b[0m R_phot \u001b[38;5;241m=\u001b[39m (\u001b[38;5;241m1.43\u001b[39m \u001b[38;5;241m*\u001b[39m u\u001b[38;5;241m.\u001b[39mday \u001b[38;5;241m*\u001b[39m (\u001b[38;5;241m0.4\u001b[39m \u001b[38;5;241m*\u001b[39m const\u001b[38;5;241m.\u001b[39mc))\u001b[38;5;241m.\u001b[39mcgs\n\u001b[1;32m     15\u001b[0m R_line \u001b[38;5;241m=\u001b[39m (\u001b[38;5;241m1.43\u001b[39m \u001b[38;5;241m*\u001b[39m u\u001b[38;5;241m.\u001b[39mday \u001b[38;5;241m*\u001b[39m (\u001b[38;5;241m0.4\u001b[39m \u001b[38;5;241m*\u001b[39m const\u001b[38;5;241m.\u001b[39mc))\u001b[38;5;241m.\u001b[39mcgs\n",
      "File \u001b[0;32m<string>:16\u001b[0m, in \u001b[0;36m__init__\u001b[0;34m(self, t_d, T, UV_shielding, multiplicities, energies, A_rates, names, bolzmann_factors, ionization_rates, collision_k, alpha, n_e, n_HeII)\u001b[0m\n",
      "Cell \u001b[0;32mIn[2], line 51\u001b[0m, in \u001b[0;36mEnvironment.__post_init__\u001b[0;34m(self)\u001b[0m\n\u001b[1;32m     49\u001b[0m \u001b[38;5;28mself\u001b[39m\u001b[38;5;241m.\u001b[39mcollision_k \u001b[38;5;241m=\u001b[39m \u001b[38;5;28mself\u001b[39m\u001b[38;5;241m.\u001b[39mcalculate_collision_k(\u001b[38;5;28mself\u001b[39m\u001b[38;5;241m.\u001b[39mT, \u001b[38;5;28mself\u001b[39m\u001b[38;5;241m.\u001b[39mmultiplicities)\n\u001b[1;32m     50\u001b[0m \u001b[38;5;28mself\u001b[39m\u001b[38;5;241m.\u001b[39malpha \u001b[38;5;241m=\u001b[39m \u001b[38;5;28mself\u001b[39m\u001b[38;5;241m.\u001b[39mcalculate_alpha(\u001b[38;5;28mself\u001b[39m\u001b[38;5;241m.\u001b[39mT)\n\u001b[0;32m---> 51\u001b[0m \u001b[38;5;28mself\u001b[39m\u001b[38;5;241m.\u001b[39mn_e, \u001b[38;5;28mself\u001b[39m\u001b[38;5;241m.\u001b[39mn_HeII \u001b[38;5;241m=\u001b[39m \u001b[38;5;28;43mself\u001b[39;49m\u001b[38;5;241;43m.\u001b[39;49m\u001b[43mcalculate_number_densities\u001b[49m\u001b[43m(\u001b[49m\u001b[43m)\u001b[49m\n",
      "\u001b[0;31mTypeError\u001b[0m: Environment.calculate_number_densities() missing 3 required positional arguments: 't_d', 'M_ejecta', and 'Y_He'"
     ]
    },
    {
     "data": {
      "image/png": "[encoded data removed]",
      "text/plain": [
       "<Figure size 640x480 with 2 Axes>"
      ]
     },
     "metadata": {},
     "output_type": "display_data"
    }
   ],
   "source": [
    "import astropy.units as u\n",
    "import astropy.constants as const\n",
    "from astropy.modeling.physical_models import BlackBody\n",
    "import scipy.integrate \n",
    "# convenience function for integrating with units\n",
    "cumtrapz = lambda x,y: scipy.integrate.cumulative_trapezoid(x=x.value, y=y.value, initial=0)*y.unit*x.unit  \n",
    "\n",
    "\n",
    "for day, T in zip([1.43, 2.42, 3.41, 4.40], [4000, 3150, 2750, 2600]):\n",
    "    fig, ax1 = plt.subplots()\n",
    "    ax2 = ax1.twinx()\n",
    "\n",
    "    env = Environment(t_d=day, T=T)\n",
    "    R_phot = (1.43 * u.day * (0.4 * const.c)).cgs\n",
    "    R_line = (1.43 * u.day * (0.4 * const.c)).cgs\n",
    "    bb = BlackBody(T * u.K, scale=1*u.Unit(\"erg/(nm s sr cm2)\")) \n",
    "    states=[\"1s2s\", \"1s2p\"]\n",
    "\n",
    "    wls = []\n",
    "    ion_rates = []\n",
    "    for state in states:\n",
    "        E, sigma = np.fliplr(np.loadtxt(state + \"_ionization.csv\", unpack=True))\n",
    "        E = (E * u.Ry).cgs\n",
    "        sigma = (sigma * u.Mbarn).cgs\n",
    "        freq = E.to(u.Hz, equivalencies=u.spectral())\n",
    "        wl = freq.to(u.nm, equivalencies=u.spectral())\n",
    "\n",
    "        # http://www.astro.yale.edu/vdbosch/astro320_summary24.pdf page 3\n",
    "        surface_luminosity = 4 * np.pi**2 * u.sr**2 * R_phot ** 2 * bb(wl)  # total emitted energy flux per wavelength times cone size\n",
    "        energy_flux = surface_luminosity / (4 * np.pi * u.sr * R_line ** 2) # energy flux per area per wavelength at the line forming region\n",
    "        # could also just write the above as energy_flux = bb(freq) * (pi * u.sr) * (R_phot / R_line) ** 2\n",
    "\n",
    "        # http://www.astro.yale.edu/vdbosch/astro320_summary24.pdf page 1\n",
    "        number_density = 4 * np.pi * energy_flux / (const.c.cgs * const.h.cgs * freq) # photons per second per wavelength per volume (per frequency/times time?)\n",
    "        ion_rate = const.c.cgs * sigma * number_density # photon ionization rate per wavelength per second\n",
    "        ion_rate = ion_rate.to(1/(u.s*u.nm))\n",
    "        cum_ion_rate = cumtrapz(x=wl, y=ion_rate)\n",
    "        wls.append(wl)\n",
    "        ion_rates.append(ion_rate)\n",
    "        ax1.plot(wl, ion_rate, label=rf\"{state}, $\\tau={(1/cum_ion_rate[-1]).si:.3}$\")\n",
    "        ax1.set_xlabel(f\"photon wl [{wl.unit}]\")\n",
    "        ax1.set_ylabel(f\"ionization rate [{ion_rate.unit}]\")\n",
    "    \n",
    "        #\n",
    "        ax2.plot(wl, cum_ion_rate/cum_ion_rate[-1], alpha=0.5, linestyle=\"--\")\n",
    "\n",
    "        ########################\n",
    "        ### TESTED: this is the same as the above, but given in the article, with geometric factor np.pi**2*4 ~ 40\n",
    "        ### For now just use the above, since it's more general\n",
    "\n",
    "        # ionization_flux_article = np.pi**2*4*u.sr * sigma * bb(wl)/E # photon ionization rate per frequency per second\n",
    "        # ionization_rate = np.trapz(x=wl, y=ionization_flux_article)\n",
    "        # print(ionization_rate)\n",
    "        ########################\n",
    "\n",
    "    wl_grid = np.linspace(min(map(min, wls)), max(map(max, wls)), 100)\n",
    "    total_ion_rates = np.zeros(len(wl_grid)) * ion_rates[0].unit\n",
    "    for wl, ion_rate, bolz, mult in zip(wls, ion_rates, env.bolzmann_factors, env.multiplicities):\n",
    "        total_ion_rates += np.interp(wl_grid, wl, ion_rate) * bolz * mult / sum(env.bolzmann_factors * env.multiplicities)\n",
    "\n",
    "    cum_total_ion_rate = cumtrapz(x=wl_grid, y=total_ion_rates)\n",
    "    ax1.plot(wl_grid, total_ion_rates, label=rf\"total, $\\tau={(1/cum_total_ion_rate[-1]).si:.3}$\")\n",
    "    ax2.plot(wl_grid, cum_total_ion_rate/cum_total_ion_rate[-1], alpha=0.5, linestyle=\"--\")\n",
    "\n",
    "    # http://www.astro.yale.edu/vdbosch/astro320_summary24.pdf\n",
    "    plt.title(f\"Photoionization lifetime at {T=}\")\n",
    "    plt.xlim(200, 350)\n",
    "    ax1.set_ylim(1e-5, 100)\n",
    "    ax1.set_yscale(\"log\")\n",
    "    ax1.legend()\n",
    "    plt.xlabel(\"photon wl [nm]\")\n",
    "    #plt.ylabel(\"Photoionization Cross section (Mb)\")\n",
    "    ax1.set_ylabel(\"Ionization rate per ion per frequency (# / (s * nm))\")\n",
    "    ax2.set_ylabel(\"Cumulative ionization photons fraction\")\n",
    "    #plt.xlim(3, 6)\n",
    "    plt.show()\n"
   ]
  },
  {
   "cell_type": "markdown",
   "metadata": {},
   "source": [
    "# Check of density calculation"
   ]
  },
  {
   "cell_type": "code",
   "execution_count": 234,
   "metadata": {},
   "outputs": [
    {
     "name": "stdout",
     "output_type": "stream",
     "text": [
      "1.1924922778585649e-47 cm3 solMass / g 0.002 4.0 u\n",
      "1.1924922778585649e-47 cm3 solMass / g 0.01 87.62 u\n"
     ]
    },
    {
     "data": {
      "image/png": "[encoded data removed]",
      "text/plain": [
       "<Figure size 640x480 with 1 Axes>"
      ]
     },
     "metadata": {},
     "output_type": "display_data"
    }
   ],
   "source": [
    "# calculate density profile at t=1 day\n",
    "\n",
    "rho = lambda v,t, rho0, p=5, v_0=0.2, t_0=1 : rho0 * (v/v_0)**-p * (t/t_0)**-3\n",
    "# M = int dM/dV*dV/dr*dr/dv wrt dv\n",
    "# r = 1 day * v\n",
    "# M = int rho(v)*dV/dr*dr/dv wrt dv\n",
    "# output in g/c\n",
    "def dMdv(v, t):\n",
    "    v = v*const.c\n",
    "    t = t*u.day\n",
    "    dr_dv = 1*u.day\n",
    "    r = 1*u.day * v\n",
    "    dV_dr = 4*np.pi*r**2\n",
    "    dM_dV = rho(v, t, 1*u.g/u.cm**3, v_0=0.2*const.c, t_0=1*u.day)\n",
    "    return (dM_dV.cgs * dV_dr.cgs * dr_dv.cgs * const.c).cgs.value\n",
    "def get_density_profile(M_ej = 0.04 * u.M_sun, atomic_mass=4*u.u, mass_fraction=0.002):\n",
    "    # we calculate the density profile at t=1 day, and normalize it to 0.04 solar mass\n",
    "    rho_0 =  M_ej / (scipy.integrate.quad(dMdv, 0.1, 0.5, args=1)[0] * u.g/u.cm**3)\n",
    "    number_density_0 = (rho_0 * mass_fraction / atomic_mass).cgs.value\n",
    "    print(rho_0, mass_fraction, atomic_mass)\n",
    "    return lambda v, t: rho(v, t, number_density_0)\n",
    "Y_He = 0.002 # fraction by mass (sec 4.1)\n",
    "m_He = 4*u.u # mass of He\n",
    "Y_Sr = 0.01 # fraction by mass (sec 4.1)\n",
    "m_Sr = 87.62 *u.u # mass of He\n",
    "x_range = np.linspace(0.245, 0.5)\n",
    "density_profile = get_density_profile(atomic_mass=m_He, mass_fraction=Y_He)\n",
    "plt.semilogy(x_range, density_profile(x_range, 1.43), label=\"He\")\n",
    "density_profile = get_density_profile(atomic_mass=m_Sr, mass_fraction=Y_Sr)\n",
    "plt.semilogy(x_range, density_profile(x_range, 1.43), label=\"Sr\")\n",
    "#plt.ylim(1e-6, 1e6)\n",
    "plt.xlim(0.15, 0.5)\n",
    "plt.axvline(x=0.245, c=\"k\", linewidth=5)\n",
    "plt.xlabel(\"v/c\")\n",
    "plt.ylabel(\"number density [cm^-3]\")\n",
    "plt.legend()\n",
    "# make ticks on every power of 10 on the y axis\n",
    "plt.gca().yaxis.set_major_locator(plt.LogLocator(numticks=10))"
   ]
  },
  {
   "cell_type": "code",
   "execution_count": 180,
   "metadata": {},
   "outputs": [
    {
     "data": {
      "text/latex": [
       "$1.4735796 \\times 10^{23} \\; \\mathrm{\\frac{1}{cm^{3}}}$"
      ],
      "text/plain": [
       "<Quantity 1.47357959e+23 1 / cm3>"
      ]
     },
     "execution_count": 180,
     "metadata": {},
     "output_type": "execute_result"
    }
   ],
   "source": [
    "import sympy as sp\n",
    "\n",
    "rho_0, v_0, v, t, t_0, r, c = sp.symbols(\"rho_0, v_0, v, t, t_0, r, c\")\n",
    "v = r / (c * t)\n",
    "rho = rho_0 * (v/v_0)**-5 * (t/t_0)**-3\n",
    "\n",
    "M_tot = sp.Integral(rho * 4 * sp.pi * r**2, (r, 0.1*t/c, 0.5*t/c)).doit()\n",
    "rho_0 = sp.solve(sp.Eq(M_tot, 0.04), rho_0)[0]\n",
    "rho_0 = rho_0.evalf(subs={v_0:0.1, t_0:1, t:1.43, c:1})\n",
    "(rho_0 * u.M_sun/(u.s * scipy.constants.c * u.m/u.s)**3 * Y_He / (4*u.u)).cgs\n",
    "#M_tot#rho.evalf(subs={})"
   ]
  },
  {
   "cell_type": "code",
   "execution_count": 197,
   "metadata": {},
   "outputs": [
    {
     "data": {
      "text/latex": [
       "$17454668 \\; \\mathrm{\\frac{1}{cm^{3}}}$"
      ],
      "text/plain": [
       "<Quantity 17454668.12625643 1 / cm3>"
      ]
     },
     "execution_count": 197,
     "metadata": {},
     "output_type": "execute_result"
    }
   ],
   "source": [
    "(0.04 * u.M_sun * Y_He / (0.3 * const.c * 1.43 * u.day)**3 / (4*u.u)).cgs"
   ]
  },
  {
   "cell_type": "code",
   "execution_count": 195,
   "metadata": {},
   "outputs": [
    {
     "data": {
      "text/plain": [
       "0.5801436210990166"
      ]
     },
     "execution_count": 195,
     "metadata": {},
     "output_type": "execute_result"
    }
   ],
   "source": [
    "17454668 / 30086805"
   ]
  },
  {
   "cell_type": "code",
   "execution_count": 552,
   "metadata": {},
   "outputs": [
    {
     "data": {
      "text/latex": [
       "$[3.180685 \\times 10^{-18},~3.2497097 \\times 10^{-18},~3.3198851 \\times 10^{-18},~3.3902465 \\times 10^{-18},~3.4606079 \\times 10^{-18},~3.5319666 \\times 10^{-18},~3.6036152 \\times 10^{-18},~3.6752639 \\times 10^{-18},~3.7578611 \\times 10^{-18},~3.8497065 \\times 10^{-18},~3.9415519 \\times 10^{-18},~4.0308686 \\times 10^{-18},~4.1061175 \\times 10^{-18},~4.1813665 \\times 10^{-18},~4.2566155 \\times 10^{-18},~4.3325244 \\times 10^{-18},~4.4088848 \\times 10^{-18},~4.4852453 \\times 10^{-18},~4.5616058 \\times 10^{-18},~4.6560297 \\times 10^{-18},~4.7535595 \\times 10^{-18},~4.8510892 \\times 10^{-18},~4.9486189 \\times 10^{-18},~5.0297134 \\times 10^{-18},~5.1093144 \\times 10^{-18},~5.1889154 \\times 10^{-18},~5.2685164 \\times 10^{-18},~5.3811972 \\times 10^{-18},~5.5038635 \\times 10^{-18},~5.6265299 \\times 10^{-18},~5.7491963 \\times 10^{-18},~5.8652359 \\times 10^{-18},~5.9709099 \\times 10^{-18},~6.0765839 \\times 10^{-18},~6.1822579 \\times 10^{-18},~6.2879318 \\times 10^{-18},~6.3955381 \\times 10^{-18},~6.5037457 \\times 10^{-18},~6.6119533 \\times 10^{-18},~6.7201609 \\times 10^{-18},~6.8283685 \\times 10^{-18},~6.9189163 \\times 10^{-18},~7.006691 \\times 10^{-18},~7.0944656 \\times 10^{-18},~7.1822403 \\times 10^{-18},~7.270015 \\times 10^{-18},~7.3890319 \\times 10^{-18},~7.523417 \\times 10^{-18},~7.6578022 \\times 10^{-18},~7.7921873 \\times 10^{-18},~7.9265725 \\times 10^{-18},~8.0616798 \\times 10^{-18},~8.2007822 \\times 10^{-18},~8.3398846 \\times 10^{-18},~8.4789869 \\times 10^{-18},~8.6180893 \\times 10^{-18},~8.7571917 \\times 10^{-18},~8.8975879 \\times 10^{-18},~9.0412854 \\times 10^{-18},~9.1849829 \\times 10^{-18},~9.3286804 \\times 10^{-18},~9.4723779 \\times 10^{-18},~9.6160753 \\times 10^{-18},~9.7593381 \\times 10^{-18},~9.8817724 \\times 10^{-18},~1.0004207 \\times 10^{-17},~1.0126641 \\times 10^{-17},~1.0249075 \\times 10^{-17},~1.037151 \\times 10^{-17},~1.0493944 \\times 10^{-17},~1.0634145 \\times 10^{-17},~1.0810482 \\times 10^{-17},~1.0986818 \\times 10^{-17},~1.1163155 \\times 10^{-17},~1.1339491 \\times 10^{-17},~1.1515828 \\times 10^{-17},~1.1692164 \\times 10^{-17},~1.186523 \\times 10^{-17},~1.2021536 \\times 10^{-17},~1.2177841 \\times 10^{-17},~1.2334146 \\times 10^{-17},~1.2490451 \\times 10^{-17},~1.2646757 \\times 10^{-17},~1.2803062 \\times 10^{-17},~1.2959367 \\times 10^{-17},~1.3117379 \\times 10^{-17},~1.3277325 \\times 10^{-17},~1.343727 \\times 10^{-17},~1.3597216 \\times 10^{-17},~1.3757162 \\times 10^{-17},~1.3917108 \\times 10^{-17},~1.4077053 \\times 10^{-17},~1.4236999 \\times 10^{-17},~1.4367237 \\times 10^{-17},~1.4367237 \\times 10^{-17},~1.4367237 \\times 10^{-17},~1.4367237 \\times 10^{-17},~1.4367237 \\times 10^{-17},~1.4367237 \\times 10^{-17},~1.4367237 \\times 10^{-17}] \\; \\mathrm{cm^{2}}$"
      ],
      "text/plain": [
       "<Quantity [3.18068501e-18, 3.24970974e-18, 3.31988509e-18, 3.39024652e-18,\n",
       "           3.46060794e-18, 3.53196657e-18, 3.60361525e-18, 3.67526392e-18,\n",
       "           3.75786110e-18, 3.84970649e-18, 3.94155187e-18, 4.03086857e-18,\n",
       "           4.10611754e-18, 4.18136651e-18, 4.25661548e-18, 4.33252439e-18,\n",
       "           4.40888485e-18, 4.48524530e-18, 4.56160576e-18, 4.65602973e-18,\n",
       "           4.75355945e-18, 4.85108918e-18, 4.94861890e-18, 5.02971339e-18,\n",
       "           5.10931439e-18, 5.18891540e-18, 5.26851640e-18, 5.38119716e-18,\n",
       "           5.50386355e-18, 5.62652993e-18, 5.74919632e-18, 5.86523594e-18,\n",
       "           5.97090991e-18, 6.07658389e-18, 6.18225786e-18, 6.28793184e-18,\n",
       "           6.39553811e-18, 6.50374570e-18, 6.61195329e-18, 6.72016088e-18,\n",
       "           6.82836847e-18, 6.91891633e-18, 7.00669099e-18, 7.09446565e-18,\n",
       "           7.18224031e-18, 7.27001496e-18, 7.38903189e-18, 7.52341704e-18,\n",
       "           7.65780219e-18, 7.79218734e-18, 7.92657248e-18, 8.06167981e-18,\n",
       "           8.20078218e-18, 8.33988456e-18, 8.47898694e-18, 8.61808932e-18,\n",
       "           8.75719169e-18, 8.89758791e-18, 9.04128540e-18, 9.18498289e-18,\n",
       "           9.32868037e-18, 9.47237786e-18, 9.61607535e-18, 9.75933809e-18,\n",
       "           9.88177239e-18, 1.00042067e-17, 1.01266410e-17, 1.02490753e-17,\n",
       "           1.03715096e-17, 1.04939439e-17, 1.06341451e-17, 1.08104817e-17,\n",
       "           1.09868182e-17, 1.11631547e-17, 1.13394913e-17, 1.15158278e-17,\n",
       "           1.16921643e-17, 1.18652304e-17, 1.20215357e-17, 1.21778409e-17,\n",
       "           1.23341461e-17, 1.24904513e-17, 1.26467566e-17, 1.28030618e-17,\n",
       "           1.29593670e-17, 1.31173790e-17, 1.32773248e-17, 1.34372705e-17,\n",
       "           1.35972162e-17, 1.37571619e-17, 1.39171076e-17, 1.40770533e-17,\n",
       "           1.42369990e-17, 1.43672370e-17, 1.43672370e-17, 1.43672370e-17,\n",
       "           1.43672370e-17, 1.43672370e-17, 1.43672370e-17, 1.43672370e-17] cm2>"
      ]
     },
     "execution_count": 552,
     "metadata": {},
     "output_type": "execute_result"
    }
   ],
   "source": [
    "wl_range = np.linspace(200, 350, 100) * u.nm\n",
    "E, sigma = np.fliplr(np.loadtxt(state + \"_ionization.csv\", unpack=True))\n",
    "E = E * u.Ry\n",
    "sigma = (sigma * u.Mbarn).cgs\n",
    "freq = E.to(u.Hz, equivalencies=u.spectral())\n",
    "wl = freq.to(u.nm, equivalencies=u.spectral())\n",
    "np.interp(wl_range, wl, sigma)"
   ]
  },
  {
   "cell_type": "code",
   "execution_count": 595,
   "metadata": {},
   "outputs": [
    {
     "name": "stdout",
     "output_type": "stream",
     "text": [
      "1733051805.9144266 erg / (s cm2)\n",
      "[0.00000000e+00 5.97287591e-36 1.48277899e-35 2.79549286e-35\n",
      " 4.74148272e-35 7.62615005e-35 1.19021280e-34 1.82402360e-34\n",
      " 2.76346166e-34 4.15585171e-34 6.21951001e-34 9.27794099e-34\n",
      " 1.38105001e-33 2.05274493e-33 3.04811441e-33 4.52307403e-33\n",
      " 6.70861717e-33 9.94695351e-33 1.47450362e-32 2.18538407e-32\n",
      " 3.23857809e-32 4.79885981e-32 7.11028779e-32 1.05343393e-31\n",
      " 1.56063793e-31 2.31192753e-31 3.42472022e-31 5.07289481e-31\n",
      " 7.51393031e-31 1.11290840e-30 1.64828709e-30 2.44111132e-30\n",
      " 3.61512762e-30 5.35353906e-30 7.92756015e-30 1.17386798e-29\n",
      " 1.73812095e-29 2.57348500e-29 3.81016747e-29 5.64088347e-29\n",
      " 8.35085013e-29 1.23621669e-28 1.82994785e-28 2.70871225e-28\n",
      " 4.00928495e-28 5.93404327e-28 8.78241727e-28 1.29974106e-27\n",
      " 1.92344095e-27 2.84629531e-27 4.21172464e-27 6.23187486e-27\n",
      " 9.22053345e-27 1.36418028e-26 2.01820698e-26 2.98564163e-26\n",
      " 4.41659433e-26 6.53303548e-26 9.66317869e-26 1.42923059e-25\n",
      " 2.11378935e-25 3.12606514e-25 4.62286341e-25 6.83597746e-25\n",
      " 1.01080296e-24 1.49454331e-24 2.20966491e-24 3.26678113e-24\n",
      " 4.82935521e-24 7.13893686e-24 1.05524425e-23 1.55972234e-23\n",
      " 2.30524034e-23 3.40690109e-23 5.03473952e-23 7.43992269e-23\n",
      " 1.09934382e-22 1.62432198e-22 2.39984904e-22 3.54542827e-22\n",
      " 5.23752626e-22 7.73670794e-22 1.14276891e-21 1.68784513e-21\n",
      " 2.49274859e-21 3.68125414e-21 5.43606064e-21 8.02682290e-21\n",
      " 1.18515100e-20 1.74974208e-20 2.58311913e-20 3.81315625e-20\n",
      " 5.62852032e-20 8.30755163e-20 1.22608543e-19 1.80940997e-19\n",
      " 2.67006284e-19 3.93979771e-19 5.81291516e-19 8.57593218e-19\n",
      " 1.26513146e-18 1.86619320e-18 2.75260463e-18 4.05972871e-18\n",
      " 5.98708995e-18 8.82876157e-18 1.30181319e-17 1.91938482e-17\n",
      " 2.82969466e-17 4.17139052e-17 6.14873100e-17 9.06260635e-17\n",
      " 1.33562124e-16 1.96822932e-16 2.90021264e-16 4.27312241e-16\n",
      " 6.29537712e-16 9.27381997e-16 1.36601549e-15 2.01192690e-15\n",
      " 2.96297458e-15 4.36317214e-15 6.42443582e-15 9.45856803e-15\n",
      " 1.39242898e-14 2.04963950e-14 3.01674208e-14 4.43971036e-14\n",
      " 6.53320570e-14 9.61286262e-14 1.41427319e-13 2.08049897e-13\n",
      " 3.06023491e-13 4.50084981e-13 6.61890572e-13 9.73260723e-13\n",
      " 1.43094496e-12 2.10361751e-12 3.09214692e-12 4.54466971e-12\n",
      " 6.67871244e-12 9.81365350e-12 1.44183505e-11 2.11810087e-11\n",
      " 3.11116612e-11 4.56924615e-11 6.70980618e-11 9.85187113e-11\n",
      " 1.44633882e-10 2.12306439e-10 3.11599898e-10 4.57268900e-10\n",
      " 6.70942685e-10 9.84323256e-10 1.44386897e-09 2.11765235e-09\n",
      " 3.10539967e-09 4.55318600e-09 6.67494058e-09 9.78391328e-09\n",
      " 1.43387072e-08 2.10106082e-08 3.07820448e-08 4.50905458e-08\n",
      " 6.60391761e-08 9.67040921e-08 1.41583944e-07 2.07256413e-07\n",
      " 3.03337161e-07 4.43880169e-07 6.49422223e-07 9.49967153e-07\n",
      " 1.38934086e-06 2.03154527e-06 2.97002669e-06 4.34119197e-06\n",
      " 6.34411473e-06 9.26925942e-06 1.35403395e-05 1.97752998e-05\n",
      " 2.88751382e-05 4.21532398e-05 6.15236543e-05 8.97751011e-05\n",
      " 1.30969628e-04 1.91022468e-04 2.78545200e-04 4.06071429e-04\n",
      " 5.91837966e-04 8.62372499e-04 1.25625171e-03 1.82955752e-03\n",
      " 2.66379619e-03 3.87738807e-03 5.64233234e-03 8.20836901e-03\n",
      " 1.19379988e-02 1.73572214e-02 2.52290199e-02 3.66597479e-02\n",
      " 5.32530914e-02 7.73327907e-02 1.12264700e-01 1.62922295e-01\n",
      " 2.36359227e-01 3.42780607e-01 4.96945032e-01 7.20187496e-01\n",
      " 1.04333671e+00 1.51092029e+00 2.18722323e+00 3.16501208e+00\n",
      " 4.57809108e+00 6.61936341e+00 9.56679719e+00 1.38207340e+01\n",
      " 1.99574636e+01 2.88061096e+01 4.15589012e+01 5.99292252e+01\n",
      " 8.63780135e+01 1.24437789e+02 1.79176173e+02 2.57858392e+02\n",
      " 3.70893516e+02 5.33184890e+02 7.66055884e+02 1.09999377e+03\n",
      " 1.57855600e+03 2.26392630e+03 3.24481024e+03 4.64764461e+03\n",
      " 6.65249568e+03 9.51558476e+03 1.36011694e+04 1.94266164e+04\n",
      " 2.77260514e+04 3.95401331e+04 5.63425179e+04 8.02177745e+04\n",
      " 1.14111343e+05 1.62180206e+05 2.30284121e+05 3.26672673e+05\n",
      " 4.62944638e+05 6.55385269e+05 9.26826996e+05 1.30923347e+06\n",
      " 1.84728087e+06 2.60331088e+06 3.66416502e+06 5.15059266e+06\n",
      " 7.23016871e+06 1.01349824e+07 1.41857894e+07 1.98248860e+07\n",
      " 2.76607083e+07 3.85281205e+07 5.35695967e+07 7.43440823e+07\n",
      " 1.02972306e+08 1.42329784e+08 1.96301777e+08 2.70118044e+08\n",
      " 3.70789448e+08 5.07673130e+08 6.93197942e+08 9.43786644e+08\n",
      " 1.28101526e+09 1.73305181e+09] erg / (s cm2)\n",
      "nm erg / (nm s sr cm2)\n",
      "6930955146.201886 erg / (s cm2)\n",
      "-29398724.354280278 erg / (s sr cm2)\n"
     ]
    },
    {
     "data": {
      "image/png": "[encoded data removed]",
      "text/plain": [
       "<Figure size 640x480 with 1 Axes>"
      ]
     },
     "metadata": {},
     "output_type": "display_data"
    }
   ],
   "source": [
    "# declare a blackbody as a function of wavelength\n",
    "T = 4000 * u.K\n",
    "bb = BlackBody(T, scale=1*u.Unit(\"erg/(nm s sr cm2)\")) \n",
    "cumtrapz = lambda x,y: scipy.integrate.cumulative_trapezoid(x=x.value, y=y.value, initial=0)*y.unit*x.unit\n",
    "plt.plot(wl, bb(wl))\n",
    "bb = BlackBody(T, scale=1.5*u.Unit(\"erg/(nm s sr cm2)\")) \n",
    "plt.plot(wl, bb(wl))\n",
    "print(np.trapz(x=wl, y=bb(wl))*4*np.pi**2*u.sr)\n",
    "print(cumtrapz(x=wl, y=bb(wl))*4*np.pi**2*u.sr)\n",
    "print(wl.unit, bb(wl).unit)\n",
    "print(bb.bolometric_flux)\n",
    "bb = BlackBody(T) \n",
    "print(cumtrapz(x=wl.to(u.Hz, equivalencies=u.spectral()), y=bb(wl))[-1])\n",
    "plt.xscale(\"log\")"
   ]
  },
  {
   "cell_type": "code",
   "execution_count": 431,
   "metadata": {},
   "outputs": [
    {
     "data": {
      "text/plain": [
       "1.018464114768631"
      ]
     },
     "execution_count": 431,
     "metadata": {},
     "output_type": "execute_result"
    }
   ],
   "source": [
    "sum(env.bolzmann_factors * env.multiplicities)"
   ]
  },
  {
   "cell_type": "code",
   "execution_count": 428,
   "metadata": {},
   "outputs": [
    {
     "data": {
      "text/plain": [
       "(array([1.       , 0.0061547]), array([1, 3]))"
      ]
     },
     "execution_count": 428,
     "metadata": {},
     "output_type": "execute_result"
    }
   ],
   "source": [
    "env.bolzmann_factors, env.multiplicities"
   ]
  },
  {
   "cell_type": "code",
   "execution_count": 406,
   "metadata": {},
   "outputs": [
    {
     "data": {
      "text/plain": [
       "array([8.39351230e-31, 6.32284516e-27, 1.38913698e-23, 1.04273125e-20,\n",
       "       2.97572197e-18, 4.30460175e-16, 3.39628971e-14, 1.62471659e-12,\n",
       "       5.29296203e-11, 1.18031463e-09, 1.98713361e-08, 2.57477785e-07,\n",
       "       2.66768839e-06, 2.26563084e-05, 1.63823860e-04, 1.02214448e-03,\n",
       "       5.54527309e-03, 2.66870313e-02, 1.14492111e-01, 4.52250396e-01,\n",
       "       1.63099604e+00, 5.44025820e+00, 1.67394352e+01, 4.85712542e+01,\n",
       "       1.33110652e+02, 3.44516363e+02, 8.45423771e+02, 1.98115499e+03,\n",
       "       4.43011912e+03, 9.58072795e+03, 1.99036651e+04, 3.98401981e+04,\n",
       "       7.75609682e+04, 1.45935715e+05, 2.67383380e+05, 4.78179077e+05,\n",
       "       8.34657221e+05, 1.42473531e+06, 2.37905042e+06, 3.88190596e+06,\n",
       "       6.20431847e+06, 9.75216168e+06, 1.51338091e+07, 2.31660563e+07,\n",
       "       3.48372266e+07, 5.14815392e+07, 7.50219829e+07, 1.08213798e+08,\n",
       "       1.54317148e+08, 2.17454112e+08, 3.03013547e+08, 4.17168620e+08,\n",
       "       5.68719869e+08, 7.69143847e+08, 1.03014052e+09, 1.36569879e+09,\n",
       "       1.79670590e+09, 2.34497604e+09, 3.03889739e+09, 3.91406662e+09,\n",
       "       4.99763423e+09, 6.33547485e+09, 7.97235400e+09, 9.97672690e+09,\n",
       "       1.24200595e+10, 1.53691160e+10, 1.89011429e+10, 2.31521000e+10,\n",
       "       2.82424283e+10, 3.43038901e+10, 4.14607966e+10, 4.98760066e+10,\n",
       "       5.97471259e+10, 7.11945352e+10, 8.44103715e+10, 9.95013268e+10,\n",
       "       1.16879795e+11, 1.36983313e+11, 1.59972042e+11, 1.86333659e+11,\n",
       "       2.16420822e+11, 2.50516679e+11, 2.89264768e+11, 3.33025480e+11,\n",
       "       3.82075353e+11, 4.37080950e+11, 4.98432294e+11, 5.66389290e+11,\n",
       "       6.42378846e+11, 7.27567963e+11, 8.21956640e+11, 9.26430318e+11,\n",
       "       1.04221934e+12, 1.16966861e+12, 1.30878173e+12, 1.46132017e+12,\n",
       "       1.62904180e+12, 1.81194660e+12, 2.01003458e+12])"
      ]
     },
     "execution_count": 406,
     "metadata": {},
     "output_type": "execute_result"
    }
   ],
   "source": [
    "cum_trap"
   ]
  },
  {
   "cell_type": "code",
   "execution_count": 381,
   "metadata": {},
   "outputs": [
    {
     "data": {
      "text/latex": [
       "$[6.552925 \\times 10^{8},~5.5930979 \\times 10^{-38},~5.5930979 \\times 10^{-38},~5.5930979 \\times 10^{-38},~5.5930979 \\times 10^{-38},~5.5930979 \\times 10^{-38},~5.5930979 \\times 10^{-38},~5.5930979 \\times 10^{-38},~5.5930979 \\times 10^{-38},~5.5930979 \\times 10^{-38},~5.5930979 \\times 10^{-38},~5.5930979 \\times 10^{-38},~5.5930979 \\times 10^{-38},~5.5930979 \\times 10^{-38},~5.5930979 \\times 10^{-38},~5.5930979 \\times 10^{-38},~5.5930979 \\times 10^{-38},~5.5930979 \\times 10^{-38},~5.5930979 \\times 10^{-38},~5.5930979 \\times 10^{-38},~5.5930979 \\times 10^{-38},~5.5930979 \\times 10^{-38},~5.5930979 \\times 10^{-38},~5.5930979 \\times 10^{-38},~5.5930979 \\times 10^{-38},~5.5930979 \\times 10^{-38},~5.5930979 \\times 10^{-38},~5.5930979 \\times 10^{-38},~5.5930979 \\times 10^{-38},~5.5930979 \\times 10^{-38},~5.5930979 \\times 10^{-38},~5.5930979 \\times 10^{-38},~5.5930979 \\times 10^{-38},~5.5930979 \\times 10^{-38},~5.5930979 \\times 10^{-38},~5.5930979 \\times 10^{-38},~5.5930979 \\times 10^{-38},~5.5930979 \\times 10^{-38},~5.5930979 \\times 10^{-38},~5.5930979 \\times 10^{-38},~5.5930979 \\times 10^{-38},~5.5930979 \\times 10^{-38},~5.5930979 \\times 10^{-38},~5.5930979 \\times 10^{-38},~5.5930979 \\times 10^{-38},~5.5930979 \\times 10^{-38},~5.5930979 \\times 10^{-38},~5.5930979 \\times 10^{-38},~5.5930979 \\times 10^{-38},~5.5930979 \\times 10^{-38},~5.5930979 \\times 10^{-38},~5.5930979 \\times 10^{-38},~5.5930979 \\times 10^{-38},~5.5930979 \\times 10^{-38},~5.5930979 \\times 10^{-38},~5.5930979 \\times 10^{-38},~5.5930979 \\times 10^{-38},~5.5930979 \\times 10^{-38},~5.5930979 \\times 10^{-38},~5.5930979 \\times 10^{-38},~5.5930979 \\times 10^{-38},~5.5930979 \\times 10^{-38},~5.5930979 \\times 10^{-38},~5.5930979 \\times 10^{-38},~5.5930979 \\times 10^{-38},~5.5930979 \\times 10^{-38},~5.5930979 \\times 10^{-38},~5.5930979 \\times 10^{-38},~5.5930979 \\times 10^{-38},~5.5930979 \\times 10^{-38},~5.5930979 \\times 10^{-38},~5.5930979 \\times 10^{-38},~5.5930979 \\times 10^{-38},~5.5930979 \\times 10^{-38},~5.5930979 \\times 10^{-38},~5.5930979 \\times 10^{-38},~5.5930979 \\times 10^{-38},~5.5930979 \\times 10^{-38},~5.5930979 \\times 10^{-38},~5.5930979 \\times 10^{-38},~5.5930979 \\times 10^{-38},~5.5930979 \\times 10^{-38},~5.5930979 \\times 10^{-38},~5.5930979 \\times 10^{-38},~5.5930979 \\times 10^{-38},~5.5930979 \\times 10^{-38},~5.5930979 \\times 10^{-38},~5.5930979 \\times 10^{-38},~5.5930979 \\times 10^{-38},~5.5930979 \\times 10^{-38},~5.5930979 \\times 10^{-38},~5.5930979 \\times 10^{-38},~5.5930979 \\times 10^{-38},~5.5930979 \\times 10^{-38},~5.5930979 \\times 10^{-38},~5.5930979 \\times 10^{-38},~5.5930979 \\times 10^{-38},~5.5930979 \\times 10^{-38},~5.5930979 \\times 10^{-38},~5.5930979 \\times 10^{-38}] \\; \\mathrm{\\frac{1}{cm\\,s}}$"
      ],
      "text/plain": [
       "<Quantity [6.55292504e+08, 5.59309790e-38, 5.59309790e-38, 5.59309790e-38,\n",
       "           5.59309790e-38, 5.59309790e-38, 5.59309790e-38, 5.59309790e-38,\n",
       "           5.59309790e-38, 5.59309790e-38, 5.59309790e-38, 5.59309790e-38,\n",
       "           5.59309790e-38, 5.59309790e-38, 5.59309790e-38, 5.59309790e-38,\n",
       "           5.59309790e-38, 5.59309790e-38, 5.59309790e-38, 5.59309790e-38,\n",
       "           5.59309790e-38, 5.59309790e-38, 5.59309790e-38, 5.59309790e-38,\n",
       "           5.59309790e-38, 5.59309790e-38, 5.59309790e-38, 5.59309790e-38,\n",
       "           5.59309790e-38, 5.59309790e-38, 5.59309790e-38, 5.59309790e-38,\n",
       "           5.59309790e-38, 5.59309790e-38, 5.59309790e-38, 5.59309790e-38,\n",
       "           5.59309790e-38, 5.59309790e-38, 5.59309790e-38, 5.59309790e-38,\n",
       "           5.59309790e-38, 5.59309790e-38, 5.59309790e-38, 5.59309790e-38,\n",
       "           5.59309790e-38, 5.59309790e-38, 5.59309790e-38, 5.59309790e-38,\n",
       "           5.59309790e-38, 5.59309790e-38, 5.59309790e-38, 5.59309790e-38,\n",
       "           5.59309790e-38, 5.59309790e-38, 5.59309790e-38, 5.59309790e-38,\n",
       "           5.59309790e-38, 5.59309790e-38, 5.59309790e-38, 5.59309790e-38,\n",
       "           5.59309790e-38, 5.59309790e-38, 5.59309790e-38, 5.59309790e-38,\n",
       "           5.59309790e-38, 5.59309790e-38, 5.59309790e-38, 5.59309790e-38,\n",
       "           5.59309790e-38, 5.59309790e-38, 5.59309790e-38, 5.59309790e-38,\n",
       "           5.59309790e-38, 5.59309790e-38, 5.59309790e-38, 5.59309790e-38,\n",
       "           5.59309790e-38, 5.59309790e-38, 5.59309790e-38, 5.59309790e-38,\n",
       "           5.59309790e-38, 5.59309790e-38, 5.59309790e-38, 5.59309790e-38,\n",
       "           5.59309790e-38, 5.59309790e-38, 5.59309790e-38, 5.59309790e-38,\n",
       "           5.59309790e-38, 5.59309790e-38, 5.59309790e-38, 5.59309790e-38,\n",
       "           5.59309790e-38, 5.59309790e-38, 5.59309790e-38, 5.59309790e-38,\n",
       "           5.59309790e-38, 5.59309790e-38, 5.59309790e-38, 5.59309790e-38] 1 / (cm s)>"
      ]
     },
     "execution_count": 381,
     "metadata": {},
     "output_type": "execute_result"
    }
   ],
   "source": [
    "np.interp(wl_grid.cgs, wl.cgs, ion_rate.cgs)"
   ]
  },
  {
   "cell_type": "code",
   "execution_count": 332,
   "metadata": {},
   "outputs": [
    {
     "data": {
      "text/latex": [
       "$[30.17013,~33.306065,~36.442,~39.577935,~42.713869,~45.849804,~48.985739,~52.121674,~55.257609,~58.393543,~61.529478,~64.665413,~67.801348,~70.937282,~74.073217,~77.209152,~80.345087,~83.481021,~86.616956,~89.752891,~92.888826,~96.02476,~99.160695,~102.29663,~105.43256,~108.5685,~111.70443,~114.84037,~117.9763,~121.11224,~124.24817,~127.38411,~130.52004,~133.65598,~136.79191,~139.92785,~143.06378,~146.19972,~149.33565,~152.47159,~155.60752,~158.74346,~161.87939,~165.01533,~168.15126,~171.28719,~174.42313,~177.55906,~180.695,~183.83093,~186.96687,~190.1028,~193.23874,~196.37467,~199.51061,~202.64654,~205.78248,~208.91841,~212.05435,~215.19028,~218.32622,~221.46215,~224.59809,~227.73402,~230.86996,~234.00589,~237.14182,~240.27776,~243.41369,~246.54963,~249.68556,~252.8215,~255.95743,~259.09337,~262.2293,~265.36524,~268.50117,~271.63711,~274.77304,~277.90898,~281.04491,~284.18085,~287.31678,~290.45272,~293.58865,~296.72459,~299.86052,~302.99645,~306.13239,~309.26832,~312.40426,~315.54019,~318.67613,~321.81206,~324.948,~328.08393,~331.21987,~334.3558,~337.49174,~340.62767] \\; \\mathrm{nm}$"
      ],
      "text/plain": [
       "<Quantity [ 30.17013042,  33.30606519,  36.44199995,  39.57793471,\n",
       "            42.71386948,  45.84980424,  48.98573901,  52.12167377,\n",
       "            55.25760853,  58.3935433 ,  61.52947806,  64.66541283,\n",
       "            67.80134759,  70.93728235,  74.07321712,  77.20915188,\n",
       "            80.34508665,  83.48102141,  86.61695617,  89.75289094,\n",
       "            92.8888257 ,  96.02476047,  99.16069523, 102.29663   ,\n",
       "           105.43256476, 108.56849952, 111.70443429, 114.84036905,\n",
       "           117.97630382, 121.11223858, 124.24817334, 127.38410811,\n",
       "           130.52004287, 133.65597764, 136.7919124 , 139.92784716,\n",
       "           143.06378193, 146.19971669, 149.33565146, 152.47158622,\n",
       "           155.60752099, 158.74345575, 161.87939051, 165.01532528,\n",
       "           168.15126004, 171.28719481, 174.42312957, 177.55906433,\n",
       "           180.6949991 , 183.83093386, 186.96686863, 190.10280339,\n",
       "           193.23873815, 196.37467292, 199.51060768, 202.64654245,\n",
       "           205.78247721, 208.91841198, 212.05434674, 215.1902815 ,\n",
       "           218.32621627, 221.46215103, 224.5980858 , 227.73402056,\n",
       "           230.86995532, 234.00589009, 237.14182485, 240.27775962,\n",
       "           243.41369438, 246.54962914, 249.68556391, 252.82149867,\n",
       "           255.95743344, 259.0933682 , 262.22930296, 265.36523773,\n",
       "           268.50117249, 271.63710726, 274.77304202, 277.90897679,\n",
       "           281.04491155, 284.18084631, 287.31678108, 290.45271584,\n",
       "           293.58865061, 296.72458537, 299.86052013, 302.9964549 ,\n",
       "           306.13238966, 309.26832443, 312.40425919, 315.54019395,\n",
       "           318.67612872, 321.81206348, 324.94799825, 328.08393301,\n",
       "           331.21986778, 334.35580254, 337.4917373 , 340.62767207] nm>"
      ]
     },
     "execution_count": 332,
     "metadata": {},
     "output_type": "execute_result"
    }
   ],
   "source": [
    "wl_grid = np.linspace(min(map(min, wls)), max(map(max, wls)), 100) \n",
    "wl_grid"
   ]
  }
 ],
 "metadata": {
  "kernelspec": {
   "display_name": "Python 3",
   "language": "python",
   "name": "python3"
  },
  "language_info": {
   "codemirror_mode": {
    "name": "ipython",
    "version": 3
   },
   "file_extension": ".py",
   "mimetype": "text/x-python",
   "name": "python",
   "nbconvert_exporter": "python",
   "pygments_lexer": "ipython3",
   "version": "3.10.12"
  }
 },
 "nbformat": 4,
 "nbformat_minor": 2
}
